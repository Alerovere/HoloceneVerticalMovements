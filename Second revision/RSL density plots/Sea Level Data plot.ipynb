{
 "cells": [
  {
   "attachments": {
    "image.png": {
     "image/png": "[encoded data removed]"
    }
   },
   "cell_type": "markdown",
   "metadata": {},
   "source": [
    "# Plotting paleo RSL data using KDE density plots\n",
    "This script plots sea level data to highlight spatio-temporal clustering using the seaborn Kernel Density Estimate plot template. Relative Sea Level data is provided via a spreadsheet containing the following columns:\n",
    "\n",
    "![image.png](attachment:image.png)\n",
    "\n",
    "Then, it applies a monte-carlo simulation (10<sup>4</sup> permutations) to calculate data clustering. The simulation first samples a random row, then extracts time and RSL from a gaussian distribution calculated from the data in the spreadsheet.\n",
    "Then, the Seaborn Joint Kernel Density Estimate is used to plot the sea level data and highlight spatio-temporal clusterings in the distribution.\n",
    "\n",
    "If the script stops working, stop and restart the Kernel, clearing all outputs."
   ]
  },
  {
   "cell_type": "code",
   "execution_count": 1,
   "metadata": {},
   "outputs": [
    {
     "name": "stdout",
     "output_type": "stream",
     "text": [
      "The file name analysed is\n",
      "C:/Users/arovere/Documents/GitHub/SE-Asia-Sealevel/Second revision/RSL density plots/Holocene_Barrang_Lompo.xlsx\n"
     ]
    }
   ],
   "source": [
    "from sys import executable, argv\n",
    "from subprocess import check_output\n",
    "from PyQt5.QtWidgets import QFileDialog, QApplication\n",
    "\n",
    "def gui_fname(directory='./'):\n",
    "    \"\"\"Open a file dialog, starting in the given directory, and return\n",
    "    the chosen filename\"\"\"\n",
    "    # run this exact file in a separate process, and grab the result\n",
    "    file = check_output([executable, __file__, directory])\n",
    "    return file.strip()\n",
    "\n",
    "if __name__ == \"__main__\":\n",
    "    directory = argv[1]\n",
    "    app = QApplication([directory])\n",
    "    fname = QFileDialog.getOpenFileName(None, \"Select a file...\", \n",
    "            directory, filter=\"All files (*)\")\n",
    "    print ('The file name analysed is')\n",
    "    print(fname[0])\n",
    "    "
   ]
  },
  {
   "cell_type": "code",
   "execution_count": 2,
   "metadata": {},
   "outputs": [
    {
     "name": "stdout",
     "output_type": "stream",
     "text": [
      "Table 1 - Sea level data used\n"
     ]
    },
    {
     "data": {
      "text/html": [
       "<div>\n",
       "<style scoped>\n",
       "    .dataframe tbody tr th:only-of-type {\n",
       "        vertical-align: middle;\n",
       "    }\n",
       "\n",
       "    .dataframe tbody tr th {\n",
       "        vertical-align: top;\n",
       "    }\n",
       "\n",
       "    .dataframe thead th {\n",
       "        text-align: right;\n",
       "    }\n",
       "</style>\n",
       "<table border=\"1\" class=\"dataframe\">\n",
       "  <thead>\n",
       "    <tr style=\"text-align: right;\">\n",
       "      <th></th>\n",
       "      <th>Sample Name</th>\n",
       "      <th>Island Name</th>\n",
       "      <th>14 C age</th>\n",
       "      <th>14 C error</th>\n",
       "      <th>Mean age [cal a BP]</th>\n",
       "      <th>Error (yr)</th>\n",
       "      <th>RSL [m]</th>\n",
       "      <th>Vertical error ± [m]</th>\n",
       "    </tr>\n",
       "  </thead>\n",
       "  <tbody>\n",
       "    <tr>\n",
       "      <th>0</th>\n",
       "      <td>FMA1 (BL)</td>\n",
       "      <td>Barrang Lompo</td>\n",
       "      <td>4505</td>\n",
       "      <td>30</td>\n",
       "      <td>4701.0</td>\n",
       "      <td>108.0</td>\n",
       "      <td>-0.861228</td>\n",
       "      <td>0.1141</td>\n",
       "    </tr>\n",
       "    <tr>\n",
       "      <th>1</th>\n",
       "      <td>FMA2 (BL)</td>\n",
       "      <td>Barrang Lompo</td>\n",
       "      <td>5600</td>\n",
       "      <td>40</td>\n",
       "      <td>6006.5</td>\n",
       "      <td>112.5</td>\n",
       "      <td>-0.441228</td>\n",
       "      <td>0.1141</td>\n",
       "    </tr>\n",
       "    <tr>\n",
       "      <th>2</th>\n",
       "      <td>FMA3 (BL)</td>\n",
       "      <td>Barrang Lompo</td>\n",
       "      <td>4405</td>\n",
       "      <td>35</td>\n",
       "      <td>4562.0</td>\n",
       "      <td>136.0</td>\n",
       "      <td>-0.461228</td>\n",
       "      <td>0.1141</td>\n",
       "    </tr>\n",
       "    <tr>\n",
       "      <th>3</th>\n",
       "      <td>FMA4 (BL)</td>\n",
       "      <td>Barrang Lompo</td>\n",
       "      <td>4900</td>\n",
       "      <td>35</td>\n",
       "      <td>5187.0</td>\n",
       "      <td>121.0</td>\n",
       "      <td>-0.546228</td>\n",
       "      <td>0.1141</td>\n",
       "    </tr>\n",
       "    <tr>\n",
       "      <th>4</th>\n",
       "      <td>FMA5 (BL)</td>\n",
       "      <td>Barrang Lompo</td>\n",
       "      <td>4965</td>\n",
       "      <td>35</td>\n",
       "      <td>5335.0</td>\n",
       "      <td>99.0</td>\n",
       "      <td>-0.616228</td>\n",
       "      <td>0.1141</td>\n",
       "    </tr>\n",
       "    <tr>\n",
       "      <th>5</th>\n",
       "      <td>FMA6 (BL)</td>\n",
       "      <td>Barrang Lompo</td>\n",
       "      <td>4640</td>\n",
       "      <td>35</td>\n",
       "      <td>4878.0</td>\n",
       "      <td>83.0</td>\n",
       "      <td>-0.676228</td>\n",
       "      <td>0.1141</td>\n",
       "    </tr>\n",
       "    <tr>\n",
       "      <th>6</th>\n",
       "      <td>FMA7 (BL)</td>\n",
       "      <td>Barrang Lompo</td>\n",
       "      <td>4830</td>\n",
       "      <td>40</td>\n",
       "      <td>5125.0</td>\n",
       "      <td>142.0</td>\n",
       "      <td>-0.581228</td>\n",
       "      <td>0.1141</td>\n",
       "    </tr>\n",
       "  </tbody>\n",
       "</table>\n",
       "</div>"
      ],
      "text/plain": [
       "  Sample Name    Island Name  14 C age  14 C error  Mean age [cal a BP]  \\\n",
       "0   FMA1 (BL)  Barrang Lompo      4505          30               4701.0   \n",
       "1   FMA2 (BL)  Barrang Lompo      5600          40               6006.5   \n",
       "2   FMA3 (BL)  Barrang Lompo      4405          35               4562.0   \n",
       "3   FMA4 (BL)  Barrang Lompo      4900          35               5187.0   \n",
       "4   FMA5 (BL)  Barrang Lompo      4965          35               5335.0   \n",
       "5   FMA6 (BL)  Barrang Lompo      4640          35               4878.0   \n",
       "6   FMA7 (BL)  Barrang Lompo      4830          40               5125.0   \n",
       "\n",
       "   Error (yr)   RSL [m]  Vertical error ± [m]  \n",
       "0       108.0 -0.861228                0.1141  \n",
       "1       112.5 -0.441228                0.1141  \n",
       "2       136.0 -0.461228                0.1141  \n",
       "3       121.0 -0.546228                0.1141  \n",
       "4        99.0 -0.616228                0.1141  \n",
       "5        83.0 -0.676228                0.1141  \n",
       "6       142.0 -0.581228                0.1141  "
      ]
     },
     "execution_count": 2,
     "metadata": {},
     "output_type": "execute_result"
    }
   ],
   "source": [
    "import pandas as pd\n",
    "import numpy as np\n",
    "import seaborn as sns\n",
    "import matplotlib.pyplot as plt\n",
    "\n",
    "#Import the dataframe\n",
    "RSL=pd.read_excel(fname[0], header=0)\n",
    "print ('Table 1 - Sea level data used')\n",
    "RSL"
   ]
  },
  {
   "cell_type": "code",
   "execution_count": 3,
   "metadata": {},
   "outputs": [
    {
     "data": {
      "text/plain": [
       "<seaborn.axisgrid.JointGrid at 0x16316f01a20>"
      ]
     },
     "execution_count": 3,
     "metadata": {},
     "output_type": "execute_result"
    },
    {
     "data": {
      "image/png": "[encoded data removed]",
      "text/plain": [
       "<Figure size 504x504 with 3 Axes>"
      ]
     },
     "metadata": {
      "needs_background": "light"
     },
     "output_type": "display_data"
    }
   ],
   "source": [
    "time=[]\n",
    "rsl=[]\n",
    "\n",
    "val = np.linspace(0, 100000, num=100001)\n",
    "\n",
    "#Creates a matrix randomly sampling the sea level data points\n",
    "for x in val:\n",
    " #Select a random row\n",
    " rnd = RSL.sample(n=1)\n",
    " #Select random time and RSL from normal distribution of age and RSL\n",
    " time.append(np.random.normal(rnd['Mean age [cal a BP]'], rnd['Error (yr)'], 1))\n",
    " rsl.append(np.random.normal(rnd['RSL [m]'], rnd['Vertical error ± [m]'], 1));\n",
    "\n",
    "#Create the dataframe\n",
    "RSLrand = pd.DataFrame({'Time':time, 'RSL':rsl})\n",
    "RSLrand['Time'] = RSLrand['Time'].astype(float)\n",
    "RSLrand['RSL'] = RSLrand['RSL'].astype(float)\n",
    "\n",
    "#Delete all values where time is \"future\"\n",
    "RSLrand = RSLrand[RSLrand['Time'] > 0]\n",
    "\n",
    "# Plot the figure\n",
    "graph=sns.jointplot(RSLrand['Time'], RSLrand['RSL'], kind=\"kde\", height=7, space=0.3)\n",
    "graph.set_axis_labels('Time [a BP]', 'RSL [m]', fontsize=12)\n",
    "\n",
    "#Uncomment if you want to use defined axes limits\n",
    "#graph.ax_marg_x.set_xlim(0, 500)\n",
    "#graph.ax_marg_y.set_ylim(-1, 0.5)\n",
    "\n",
    "#Uncomment if you want to save a figure for external editing\n",
    "#graph.savefig(\"RSL_KDE.svg\")"
   ]
  },
  {
   "cell_type": "code",
   "execution_count": 4,
   "metadata": {},
   "outputs": [
    {
     "name": "stdout",
     "output_type": "stream",
     "text": [
      "The average timing of the dataset is 5115.07 ±  461.2 yrs\n",
      "The average RSL of the dataset is  -0.60 ±   0.17 m\n",
      "The average RSL change rate is  -0.12 ±    0.0 mm/yr\n"
     ]
    }
   ],
   "source": [
    "#Calculates averages and stdev of entire dataset\n",
    "Time_avg=RSLrand['Time'].mean()\n",
    "Time_sd=RSLrand['Time'].std()\n",
    "RSL_avg=RSLrand['RSL'].mean()\n",
    "RSL_sd=RSLrand['RSL'].std()\n",
    "print (\"The average timing of the dataset is {:6.2f} ± {:6.1f} yrs\".format(Time_avg, Time_sd))\n",
    "print (\"The average RSL of the dataset is {:6.2f} ± {:6.2f} m\".format(RSL_avg, RSL_sd))\n",
    "\n",
    "#Calculate SL change rates\n",
    "Rate_avg=(RSL_avg*1000)/Time_avg #mm/yr\n",
    "Rate_std=abs(Rate_avg)*np.sqrt((RSL_sd/RSL_avg)**2 + (Time_sd/Time_avg)**2)\n",
    "print (\"The average RSL change rate is {:6.2f} ± {:6.1f} mm/yr\".format(Rate_avg, Rate_std))"
   ]
  },
  {
   "cell_type": "markdown",
   "metadata": {},
   "source": [
    "**Main code help from:**<br>\n",
    "https://stackoverflow.com/questions/20790926/ipython-notebook-open-select-file-with-gui-qt-dialog<br>\n",
    "https://stackoverflow.com/questions/46971525/journal-quality-kde-plots-with-seaborn-pandas<br>\n",
    "\n",
    "**Reference**<br>\n",
    "This script is part of the Supplementary material of Bender et al., Climate of the Past, Under rev.\n",
    "\n",
    "**Acknowledgments**<br>\n",
    "This work was supported through grant SEASCHANGE (RO-5245/1-1) from the Deutsche Forschungsgemeinschaft (DFG) as part of the Special Priority Program (SPP)-1889 “Regional Sea Level Change and Society”"
   ]
  }
 ],
 "metadata": {
  "kernelspec": {
   "display_name": "Python 3",
   "language": "python",
   "name": "python3"
  },
  "language_info": {
   "codemirror_mode": {
    "name": "ipython",
    "version": 3
   },
   "file_extension": ".py",
   "mimetype": "text/x-python",
   "name": "python",
   "nbconvert_exporter": "python",
   "pygments_lexer": "ipython3",
   "version": "3.6.9"
  }
 },
 "nbformat": 4,
 "nbformat_minor": 2
}
