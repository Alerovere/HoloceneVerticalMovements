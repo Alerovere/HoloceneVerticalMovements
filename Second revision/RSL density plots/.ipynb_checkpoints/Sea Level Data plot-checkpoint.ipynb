{
 "cells": [
  {
   "attachments": {
    "image.png": {
     "image/png": "[encoded data removed]"
    }
   },
   "cell_type": "markdown",
   "metadata": {},
   "source": [
    "# Plotting paleo RSL data using KDE density plots\n",
    "This script plots sea level data to highlight spatio-temporal clustering using the seaborn Kernel Density Estimate plot template. Relative Sea Level data is provided via a spreadsheet containing the following columns:\n",
    "\n",
    "![image.png](attachment:image.png)\n",
    "\n",
    "Then, it applies a monte-carlo simulation (10<sup>4</sup> permutations) to calculate data clustering. The simulation first samples a random row, then extracts time and RSL from a gaussian distribution calculated from the data in the spreadsheet.\n",
    "Then, the Seaborn Joint Kernel Density Estimate is used to plot the sea level data and highlight spatio-temporal clusterings in the distribution.\n",
    "\n",
    "If the script stops working, stop and restart the Kernel, clearing all outputs."
   ]
  },
  {
   "cell_type": "code",
   "execution_count": 1,
   "metadata": {},
   "outputs": [
    {
     "name": "stdout",
     "output_type": "stream",
     "text": [
      "The file name analysed is\n",
      "C:/Users/arovere/Documents/GitHub/SE-Asia-Sealevel/Second revision/RSL density plots/Common_era.xlsx\n"
     ]
    }
   ],
   "source": [
    "from sys import executable, argv\n",
    "from subprocess import check_output\n",
    "from PyQt5.QtWidgets import QFileDialog, QApplication\n",
    "\n",
    "def gui_fname(directory='./'):\n",
    "    \"\"\"Open a file dialog, starting in the given directory, and return\n",
    "    the chosen filename\"\"\"\n",
    "    # run this exact file in a separate process, and grab the result\n",
    "    file = check_output([executable, __file__, directory])\n",
    "    return file.strip()\n",
    "\n",
    "if __name__ == \"__main__\":\n",
    "    directory = argv[1]\n",
    "    app = QApplication([directory])\n",
    "    fname = QFileDialog.getOpenFileName(None, \"Select a file...\", \n",
    "            directory, filter=\"All files (*)\")\n",
    "    print ('The file name analysed is')\n",
    "    print(fname[0])\n",
    "    "
   ]
  },
  {
   "cell_type": "code",
   "execution_count": 2,
   "metadata": {},
   "outputs": [
    {
     "name": "stdout",
     "output_type": "stream",
     "text": [
      "Table 1 - Sea level data used\n"
     ]
    },
    {
     "data": {
      "text/html": [
       "<div>\n",
       "<style scoped>\n",
       "    .dataframe tbody tr th:only-of-type {\n",
       "        vertical-align: middle;\n",
       "    }\n",
       "\n",
       "    .dataframe tbody tr th {\n",
       "        vertical-align: top;\n",
       "    }\n",
       "\n",
       "    .dataframe thead th {\n",
       "        text-align: right;\n",
       "    }\n",
       "</style>\n",
       "<table border=\"1\" class=\"dataframe\">\n",
       "  <thead>\n",
       "    <tr style=\"text-align: right;\">\n",
       "      <th></th>\n",
       "      <th>Sample Name</th>\n",
       "      <th>Island Name</th>\n",
       "      <th>14 C age</th>\n",
       "      <th>14 C error</th>\n",
       "      <th>Mean age [cal a BP]</th>\n",
       "      <th>Error (yr)</th>\n",
       "      <th>RSL [m]</th>\n",
       "      <th>Vertical error ± [m]</th>\n",
       "    </tr>\n",
       "  </thead>\n",
       "  <tbody>\n",
       "    <tr>\n",
       "      <th>0</th>\n",
       "      <td>PS_FMA1</td>\n",
       "      <td>Suranti</td>\n",
       "      <td>490</td>\n",
       "      <td>30</td>\n",
       "      <td>114.0</td>\n",
       "      <td>114.0</td>\n",
       "      <td>-0.537675</td>\n",
       "      <td>0.301231</td>\n",
       "    </tr>\n",
       "    <tr>\n",
       "      <th>1</th>\n",
       "      <td>PS_FMA2</td>\n",
       "      <td>Suranti</td>\n",
       "      <td>560</td>\n",
       "      <td>30</td>\n",
       "      <td>187.5</td>\n",
       "      <td>91.5</td>\n",
       "      <td>-0.147675</td>\n",
       "      <td>0.292814</td>\n",
       "    </tr>\n",
       "    <tr>\n",
       "      <th>2</th>\n",
       "      <td>PS_FMA3</td>\n",
       "      <td>Suranti</td>\n",
       "      <td>620</td>\n",
       "      <td>30</td>\n",
       "      <td>236.5</td>\n",
       "      <td>96.5</td>\n",
       "      <td>-0.117675</td>\n",
       "      <td>0.292814</td>\n",
       "    </tr>\n",
       "    <tr>\n",
       "      <th>3</th>\n",
       "      <td>PS_FMA4</td>\n",
       "      <td>Suranti</td>\n",
       "      <td>500</td>\n",
       "      <td>30</td>\n",
       "      <td>118.0</td>\n",
       "      <td>118.0</td>\n",
       "      <td>-1.562675</td>\n",
       "      <td>0.292814</td>\n",
       "    </tr>\n",
       "    <tr>\n",
       "      <th>4</th>\n",
       "      <td>PT_FMA5</td>\n",
       "      <td>Tambakulu</td>\n",
       "      <td>460</td>\n",
       "      <td>30</td>\n",
       "      <td>95.0</td>\n",
       "      <td>95.0</td>\n",
       "      <td>-0.158235</td>\n",
       "      <td>0.217117</td>\n",
       "    </tr>\n",
       "    <tr>\n",
       "      <th>5</th>\n",
       "      <td>PT_FMA6</td>\n",
       "      <td>Tambakulu</td>\n",
       "      <td>490</td>\n",
       "      <td>30</td>\n",
       "      <td>114.0</td>\n",
       "      <td>114.0</td>\n",
       "      <td>-0.158235</td>\n",
       "      <td>0.217117</td>\n",
       "    </tr>\n",
       "    <tr>\n",
       "      <th>6</th>\n",
       "      <td>PT_FMA7</td>\n",
       "      <td>Tambakulu</td>\n",
       "      <td>470</td>\n",
       "      <td>30</td>\n",
       "      <td>112.5</td>\n",
       "      <td>112.5</td>\n",
       "      <td>-0.238235</td>\n",
       "      <td>0.217117</td>\n",
       "    </tr>\n",
       "    <tr>\n",
       "      <th>7</th>\n",
       "      <td>PT_FMA9</td>\n",
       "      <td>Tambakulu</td>\n",
       "      <td>420</td>\n",
       "      <td>30</td>\n",
       "      <td>58.0</td>\n",
       "      <td>58.0</td>\n",
       "      <td>-0.088235</td>\n",
       "      <td>0.288513</td>\n",
       "    </tr>\n",
       "  </tbody>\n",
       "</table>\n",
       "</div>"
      ],
      "text/plain": [
       "  Sample Name Island Name  14 C age  14 C error  Mean age [cal a BP]  \\\n",
       "0     PS_FMA1     Suranti       490          30                114.0   \n",
       "1     PS_FMA2     Suranti       560          30                187.5   \n",
       "2     PS_FMA3     Suranti       620          30                236.5   \n",
       "3     PS_FMA4     Suranti       500          30                118.0   \n",
       "4     PT_FMA5   Tambakulu       460          30                 95.0   \n",
       "5     PT_FMA6   Tambakulu       490          30                114.0   \n",
       "6     PT_FMA7   Tambakulu       470          30                112.5   \n",
       "7     PT_FMA9   Tambakulu       420          30                 58.0   \n",
       "\n",
       "   Error (yr)   RSL [m]  Vertical error ± [m]  \n",
       "0       114.0 -0.537675              0.301231  \n",
       "1        91.5 -0.147675              0.292814  \n",
       "2        96.5 -0.117675              0.292814  \n",
       "3       118.0 -1.562675              0.292814  \n",
       "4        95.0 -0.158235              0.217117  \n",
       "5       114.0 -0.158235              0.217117  \n",
       "6       112.5 -0.238235              0.217117  \n",
       "7        58.0 -0.088235              0.288513  "
      ]
     },
     "execution_count": 2,
     "metadata": {},
     "output_type": "execute_result"
    }
   ],
   "source": [
    "import pandas as pd\n",
    "import numpy as np\n",
    "import seaborn as sns\n",
    "import matplotlib.pyplot as plt\n",
    "\n",
    "#Import the dataframe\n",
    "RSL=pd.read_excel(fname[0], header=0)\n",
    "print ('Table 1 - Sea level data used')\n",
    "RSL"
   ]
  },
  {
   "cell_type": "code",
   "execution_count": 3,
   "metadata": {},
   "outputs": [
    {
     "data": {
      "text/plain": [
       "<seaborn.axisgrid.JointGrid at 0x2396aef2ba8>"
      ]
     },
     "execution_count": 3,
     "metadata": {},
     "output_type": "execute_result"
    },
    {
     "data": {
      "image/png": "[encoded data removed]",
      "text/plain": [
       "<Figure size 504x504 with 3 Axes>"
      ]
     },
     "metadata": {
      "needs_background": "light"
     },
     "output_type": "display_data"
    }
   ],
   "source": [
    "time=[]\n",
    "rsl=[]\n",
    "\n",
    "val = np.linspace(0, 10000, num=10001)\n",
    "\n",
    "#Creates a matrix randomly sampling the sea level data points\n",
    "for x in val:\n",
    " #Select a random row\n",
    " rnd = RSL.sample(n=1)\n",
    " #Select random time and RSL from normal distribution of age and RSL\n",
    " time.append(np.random.normal(rnd['Mean age [cal a BP]'], rnd['Error (yr)'], 1))\n",
    " rsl.append(np.random.normal(rnd['RSL [m]'], rnd['Vertical error ± [m]'], 1));\n",
    "\n",
    "#Create the dataframe\n",
    "RSLrand = pd.DataFrame({'Time':time, 'RSL':rsl})\n",
    "RSLrand['Time'] = RSLrand['Time'].astype(float)\n",
    "RSLrand['RSL'] = RSLrand['RSL'].astype(float)\n",
    "\n",
    "#Delete all values where time is \"future\"\n",
    "RSLrand = RSLrand[RSLrand['Time'] > 0]\n",
    "\n",
    "# Plot the figure\n",
    "graph=sns.jointplot(RSLrand['Time'], RSLrand['RSL'], kind=\"kde\", height=7, space=0.3)\n",
    "graph.set_axis_labels('Time [a BP]', 'RSL [m]', fontsize=12)\n",
    "\n",
    "#Uncomment if you want to use defined axes limits\n",
    "#graph.ax_marg_x.set_xlim(0, 500)\n",
    "#graph.ax_marg_y.set_ylim(-1, 0.5)\n",
    "\n",
    "#Uncomment if you want to save a figure for external editing\n",
    "#graph.savefig(\"RSL_KDE.svg\")"
   ]
  },
  {
   "cell_type": "code",
   "execution_count": 15,
   "metadata": {},
   "outputs": [
    {
     "name": "stdout",
     "output_type": "stream",
     "text": [
      "The average timing of the dataset is 155.40 ±   95.7 yrs\n",
      "The average RSL of the dataset is  -0.37 ±   0.53 m\n",
      "The average RSL change rate is  -2.38 ±    3.7 mm/yr\n"
     ]
    }
   ],
   "source": [
    "#Calculates averages and stdev of entire dataset\n",
    "Time_avg=RSLrand['Time'].mean()\n",
    "Time_sd=RSLrand['Time'].std()\n",
    "RSL_avg=RSLrand['RSL'].mean()\n",
    "RSL_sd=RSLrand['RSL'].std()\n",
    "print (\"The average timing of the dataset is {:6.2f} ± {:6.1f} yrs\".format(Time_avg, Time_sd))\n",
    "print (\"The average RSL of the dataset is {:6.2f} ± {:6.2f} m\".format(RSL_avg, RSL_sd))\n",
    "\n",
    "#Calculate SL change rates\n",
    "Rate_avg=(RSL_avg*1000)/Time_avg #mm/yr\n",
    "Rate_std=abs(Rate_avg)*np.sqrt((RSL_sd/RSL_avg)**2 + (Time_sd/Time_avg)**2)\n",
    "print (\"The average RSL change rate is {:6.2f} ± {:6.1f} mm/yr\".format(Rate_avg, Rate_std))"
   ]
  },
  {
   "cell_type": "markdown",
   "metadata": {},
   "source": [
    "**Main code help from:**<br>\n",
    "https://stackoverflow.com/questions/20790926/ipython-notebook-open-select-file-with-gui-qt-dialog<br>\n",
    "https://stackoverflow.com/questions/46971525/journal-quality-kde-plots-with-seaborn-pandas<br>\n",
    "\n",
    "**Reference**<br>\n",
    "This script is part of the Supplementary material of Bender et al., Climate of the Past, Under rev.\n",
    "\n",
    "**Acknowledgments**<br>\n",
    "This work was supported through grant SEASCHANGE (RO-5245/1-1) from the Deutsche Forschungsgemeinschaft (DFG) as part of the Special Priority Program (SPP)-1889 “Regional Sea Level Change and Society”"
   ]
  }
 ],
 "metadata": {
  "kernelspec": {
   "display_name": "Python 3",
   "language": "python",
   "name": "python3"
  },
  "language_info": {
   "codemirror_mode": {
    "name": "ipython",
    "version": 3
   },
   "file_extension": ".py",
   "mimetype": "text/x-python",
   "name": "python",
   "nbconvert_exporter": "python",
   "pygments_lexer": "ipython3",
   "version": "3.6.9"
  }
 },
 "nbformat": 4,
 "nbformat_minor": 2
}
